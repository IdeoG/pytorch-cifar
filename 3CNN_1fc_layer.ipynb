{
 "cells": [
  {
   "cell_type": "markdown",
   "metadata": {},
   "source": [
    "**Imports**\n",
    "\n",
    "----"
   ]
  },
  {
   "cell_type": "markdown",
   "metadata": {},
   "source": [
    "***Best loss = 0.60***\n",
    "\n",
    "Activation function was ReLU\n",
    "\n",
    "epoch=250"
   ]
  },
  {
   "cell_type": "code",
   "execution_count": 1,
   "metadata": {
    "collapsed": true
   },
   "outputs": [],
   "source": [
    "from tqdm import *\n",
    "import pickle\n",
    "import numpy as np\n",
    "import matplotlib.pyplot as plt"
   ]
  },
  {
   "cell_type": "code",
   "execution_count": 2,
   "metadata": {
    "collapsed": true
   },
   "outputs": [],
   "source": [
    "import torch\n",
    "import torch.nn as nn\n",
    "from torch.autograd import Variable\n",
    "from torchvision import transforms, datasets\n",
    "import torch.nn.functional as F\n",
    "import torch.backends.cudnn as cudnn\n",
    "from torch import optim\n",
    "# cudnn.benchmark = True"
   ]
  },
  {
   "cell_type": "markdown",
   "metadata": {},
   "source": [
    "**Load data**\n",
    "\n",
    "----"
   ]
  },
  {
   "cell_type": "code",
   "execution_count": 3,
   "metadata": {
    "collapsed": true
   },
   "outputs": [],
   "source": [
    "batch_size=1000\n",
    "normalize = transforms.Normalize(mean=[0.485, 0.456, 0.406],\n",
    "                                     std=[0.229, 0.224, 0.225])\n",
    "trainloader = torch.utils.data.DataLoader(\n",
    "        datasets.CIFAR10(root='./data', train=True, transform=transforms.Compose([\n",
    "            transforms.RandomHorizontalFlip(),\n",
    "            transforms.RandomCrop(32),\n",
    "            transforms.CenterCrop(32),\n",
    "            transforms.ToTensor(),\n",
    "            normalize,\n",
    "        ]), download=False),\n",
    "        batch_size=batch_size, shuffle=True, pin_memory=True)\n",
    "testloader = torch.utils.data.DataLoader(\n",
    "        datasets.CIFAR10(root='./data', train=False, transform=transforms.Compose([\n",
    "            transforms.ToTensor(),\n",
    "            normalize,\n",
    "        ])),\n",
    "        batch_size=batch_size, shuffle=False, pin_memory=True)"
   ]
  },
  {
   "cell_type": "markdown",
   "metadata": {},
   "source": [
    "**Create a model**\n",
    "\n",
    "----"
   ]
  },
  {
   "cell_type": "code",
   "execution_count": 4,
   "metadata": {
    "collapsed": true
   },
   "outputs": [],
   "source": [
    "class Net(nn.Module):  \n",
    "    def __init__(self):\n",
    "        super(Net, self).__init__()\n",
    "        \n",
    "        self.feature_map_size = 4 * 4 * 256\n",
    "        \n",
    "        self.c1_layer = nn.Sequential( \\\n",
    "                                        nn.BatchNorm2d(3),\n",
    "                                        nn.Conv2d(3,64,3,padding=1),\n",
    "                                        nn.ReLU(),\n",
    "                                        nn.Conv2d(64,64,3,padding=1),\n",
    "                                        nn.MaxPool2d(2,stride=2),\n",
    "                                        nn.ReLU(),\n",
    "                                        nn.Dropout2d(0.25)\n",
    "                                       )\n",
    "        self.c2_layer = nn.Sequential( \\\n",
    "                                        nn.Conv2d(64,128,3,padding=1),\n",
    "                                        nn.ReLU(),\n",
    "                                        nn.Conv2d(128,128,3,padding=1),\n",
    "                                        nn.MaxPool2d(2,stride=2),\n",
    "                                        nn.ReLU(),\n",
    "                                        nn.Dropout2d(0.25)\n",
    "                                       )\n",
    "        self.c3_layer = nn.Sequential( \\\n",
    "                                        nn.Conv2d(128,256,3,padding=1),\n",
    "                                        nn.ReLU(),\n",
    "                                        nn.Conv2d(256,256,3,padding=1),\n",
    "                                        nn.ReLU(),\n",
    "                                        nn.Conv2d(256,256,3,padding=1),\n",
    "                                        nn.ReLU(),\n",
    "                                        nn.Conv2d(256,256,3,padding=1),\n",
    "                                        nn.MaxPool2d(2,stride=2),\n",
    "                                        nn.ReLU(),\n",
    "                                        nn.Dropout2d(0.25)\n",
    "                                     )\n",
    "                                      \n",
    "        self.fc_layer = nn.Sequential( \\\n",
    "                                        nn.Linear(self.feature_map_size, 1024),\n",
    "                                        nn.ReLU(),\n",
    "                                        nn.Dropout2d(),\n",
    "                                        nn.Linear(1024, 1024),\n",
    "                                        nn.ReLU(),\n",
    "                                        nn.Dropout2d(),\n",
    "                                        nn.Linear(1024, 10)\n",
    "                                    )\n",
    "\n",
    "    def forward(self, x): \n",
    "        x = self.c1_layer(x)\n",
    "        x = self.c2_layer(x)\n",
    "        x = self.c3_layer(x)\n",
    "        x = x.view(-1, self.feature_map_size)  \n",
    "        x = self.fc_layer(x)\n",
    "        return x"
   ]
  },
  {
   "cell_type": "markdown",
   "metadata": {},
   "source": [
    "**Learn the model**\n",
    "\n",
    "----"
   ]
  },
  {
   "cell_type": "code",
   "execution_count": 18,
   "metadata": {
    "collapsed": true
   },
   "outputs": [],
   "source": [
    "'''Combination of augmented data and raw data'''\n",
    "def run(s_epoch,n_epoch,lr):\n",
    "    net.train(True)\n",
    "    optimizer = optim.Adam(net.parameters(), lr=lr)\n",
    "#     for epoch in tqdm(range(s_epoch,n_epoch)):  \n",
    "    for epoch in range(s_epoch,n_epoch):  \n",
    "        running_corrects= 0\n",
    "        running_loss = 0.0\n",
    "        for i, data in enumerate(trainloader, 0):\n",
    "            inputs, labels = data\n",
    "            inputs, labels = Variable(inputs.cuda()), Variable(labels.cuda())\n",
    "            optimizer.zero_grad()\n",
    "            outputs = net(inputs)\n",
    "            loss = criterion(outputs, labels)\n",
    "            loss.backward()\n",
    "            optimizer.step()\n",
    "\n",
    "            running_loss += loss.data[0]\n",
    "\n",
    "            _, preds = torch.max(outputs.data, 1)\n",
    "            running_corrects += torch.sum(preds == labels.data)\n",
    "            \n",
    "            \n",
    "        print(\"Train accuracy %s and loss %s\\n\" %(running_corrects/len(trainloader.dataset),running_loss))\n",
    "        loss_data.append(running_loss)\n",
    "        corrects.append(running_corrects/len(trainloader.dataset))\n",
    "    print('Finished Training')\n",
    "    print(\"Train accuracy %s and loss %s\\n\" %(running_corrects/len(trainloader.dataset),running_loss))"
   ]
  },
  {
   "cell_type": "code",
   "execution_count": 19,
   "metadata": {},
   "outputs": [],
   "source": [
    "net = Net().cuda()\n",
    "criterion = nn.CrossEntropyLoss()\n",
    "loss_data = []\n",
    "corrects = []"
   ]
  },
  {
   "cell_type": "code",
   "execution_count": 20,
   "metadata": {
    "scrolled": true
   },
   "outputs": [
    {
     "name": "stdout",
     "output_type": "stream",
     "text": [
      "Train accuracy 0.18116 and loss 107.5786726474762\n",
      "\n",
      "Train accuracy 0.31174 and loss 90.65355718135834\n",
      "\n",
      "Train accuracy 0.40724 and loss 78.85357797145844\n",
      "\n",
      "Train accuracy 0.49616 and loss 68.52150189876556\n",
      "\n",
      "Train accuracy 0.55456 and loss 61.00254583358765\n",
      "\n",
      "Train accuracy 0.59486 and loss 56.40764844417572\n",
      "\n",
      "Train accuracy 0.6306 and loss 51.73451954126358\n",
      "\n",
      "Train accuracy 0.65998 and loss 47.95654225349426\n",
      "\n",
      "Train accuracy 0.68088 and loss 45.1919219493866\n",
      "\n",
      "Train accuracy 0.70182 and loss 42.50929868221283\n",
      "\n",
      "Train accuracy 0.71902 and loss 40.12581664323807\n",
      "\n",
      "Train accuracy 0.7328 and loss 38.2113271355629\n",
      "\n",
      "Train accuracy 0.75052 and loss 35.92939764261246\n",
      "\n",
      "Train accuracy 0.76322 and loss 34.39856493473053\n",
      "\n",
      "Train accuracy 0.7725 and loss 32.9351886510849\n",
      "\n",
      "Train accuracy 0.77818 and loss 32.045094549655914\n",
      "\n",
      "Train accuracy 0.7927 and loss 30.102792620658875\n",
      "\n",
      "Train accuracy 0.79886 and loss 29.173475325107574\n",
      "\n",
      "Train accuracy 0.80582 and loss 28.037240087985992\n",
      "\n",
      "Train accuracy 0.8143 and loss 26.701633155345917\n",
      "\n",
      "Train accuracy 0.81924 and loss 26.071945399045944\n",
      "\n",
      "Train accuracy 0.82488 and loss 25.835509717464447\n",
      "\n",
      "Train accuracy 0.83314 and loss 24.296400368213654\n",
      "\n",
      "Train accuracy 0.83758 and loss 23.874015271663666\n",
      "\n",
      "Train accuracy 0.84042 and loss 23.013074725866318\n",
      "\n",
      "Train accuracy 0.84568 and loss 22.297001510858536\n",
      "\n",
      "Train accuracy 0.85028 and loss 21.69879049062729\n",
      "\n",
      "Train accuracy 0.85248 and loss 21.196154057979584\n",
      "\n",
      "Train accuracy 0.85904 and loss 20.343106359243393\n",
      "\n",
      "Train accuracy 0.86282 and loss 20.093517303466797\n",
      "\n",
      "Train accuracy 0.86648 and loss 19.33038055896759\n",
      "\n",
      "Train accuracy 0.87192 and loss 18.70869880914688\n",
      "\n",
      "Train accuracy 0.8753 and loss 18.179464906454086\n",
      "\n",
      "Train accuracy 0.8731 and loss 18.172251522541046\n",
      "\n",
      "Train accuracy 0.87888 and loss 17.39648449420929\n",
      "\n",
      "Train accuracy 0.88268 and loss 17.048864662647247\n",
      "\n",
      "Train accuracy 0.88424 and loss 16.876615911722183\n",
      "\n",
      "Train accuracy 0.8858 and loss 16.243703216314316\n",
      "\n",
      "Train accuracy 0.891 and loss 15.818220138549805\n",
      "\n",
      "Train accuracy 0.89438 and loss 15.247250035405159\n",
      "\n",
      "Finished Training\n",
      "Train accuracy 0.89438 and loss 15.247250035405159\n",
      "\n",
      "CPU times: user 13min 53s, sys: 1min 8s, total: 15min 2s\n",
      "Wall time: 15min 2s\n"
     ]
    }
   ],
   "source": [
    "%%time\n",
    "run(0,40,0.001)"
   ]
  },
  {
   "cell_type": "code",
   "execution_count": 21,
   "metadata": {
    "scrolled": true
   },
   "outputs": [
    {
     "name": "stdout",
     "output_type": "stream",
     "text": [
      "Train accuracy 0.88798 and loss 16.123976856470108\n",
      "\n",
      "Train accuracy 0.89818 and loss 14.73160645365715\n",
      "\n",
      "Train accuracy 0.9001 and loss 14.681829139590263\n",
      "\n",
      "Train accuracy 0.90014 and loss 14.443586483597755\n",
      "\n",
      "Train accuracy 0.90662 and loss 13.504648625850677\n",
      "\n",
      "Train accuracy 0.90746 and loss 13.504818990826607\n",
      "\n",
      "Train accuracy 0.9085 and loss 13.350712656974792\n",
      "\n",
      "Train accuracy 0.9111 and loss 12.94841343164444\n",
      "\n",
      "Train accuracy 0.9112 and loss 12.866643026471138\n",
      "\n",
      "Train accuracy 0.91026 and loss 12.83768031001091\n",
      "\n",
      "Train accuracy 0.91396 and loss 12.377125278115273\n",
      "\n",
      "Train accuracy 0.91622 and loss 12.089767023921013\n",
      "\n",
      "Train accuracy 0.91942 and loss 11.70405949652195\n",
      "\n",
      "Train accuracy 0.92178 and loss 11.271068334579468\n",
      "\n",
      "Train accuracy 0.92306 and loss 11.082750484347343\n",
      "\n",
      "Train accuracy 0.92172 and loss 11.110503524541855\n",
      "\n",
      "Train accuracy 0.92228 and loss 11.190772637724876\n",
      "\n",
      "Train accuracy 0.9229 and loss 11.012647956609726\n",
      "\n",
      "Train accuracy 0.92766 and loss 10.285326853394508\n",
      "\n",
      "Train accuracy 0.92578 and loss 10.58633428812027\n",
      "\n",
      "Train accuracy 0.92402 and loss 10.756856083869934\n",
      "\n",
      "Train accuracy 0.92516 and loss 10.843367353081703\n",
      "\n",
      "Train accuracy 0.93058 and loss 9.894066229462624\n",
      "\n",
      "Train accuracy 0.93124 and loss 9.93218632042408\n",
      "\n",
      "Train accuracy 0.93236 and loss 9.993111178278923\n",
      "\n",
      "Train accuracy 0.9334 and loss 9.787237882614136\n",
      "\n",
      "Train accuracy 0.93392 and loss 9.715878829360008\n",
      "\n",
      "Train accuracy 0.93316 and loss 9.659555271267891\n",
      "\n",
      "Train accuracy 0.93702 and loss 9.14829395711422\n",
      "\n",
      "Train accuracy 0.93764 and loss 8.980562813580036\n",
      "\n",
      "Train accuracy 0.93734 and loss 9.05012620985508\n",
      "\n",
      "Train accuracy 0.9381 and loss 8.912223279476166\n",
      "\n",
      "Train accuracy 0.93962 and loss 8.6215211302042\n",
      "\n",
      "Train accuracy 0.9403 and loss 8.681926533579826\n",
      "\n",
      "Train accuracy 0.94028 and loss 8.704080045223236\n",
      "\n",
      "Train accuracy 0.94162 and loss 8.39379807561636\n",
      "\n",
      "Train accuracy 0.94208 and loss 8.502725437283516\n",
      "\n",
      "Train accuracy 0.94394 and loss 8.087054140865803\n",
      "\n",
      "Train accuracy 0.94476 and loss 8.142553135752678\n",
      "\n",
      "Train accuracy 0.94506 and loss 8.058544173836708\n",
      "\n",
      "Train accuracy 0.94402 and loss 8.06268186122179\n",
      "\n",
      "Train accuracy 0.94346 and loss 8.228032499551773\n",
      "\n",
      "Train accuracy 0.9462 and loss 7.798977427184582\n",
      "\n",
      "Train accuracy 0.9475 and loss 7.538073152303696\n",
      "\n",
      "Train accuracy 0.94788 and loss 7.434638790786266\n",
      "\n",
      "Train accuracy 0.9468 and loss 7.7659647688269615\n",
      "\n",
      "Train accuracy 0.94896 and loss 7.464750550687313\n",
      "\n",
      "Train accuracy 0.94746 and loss 7.607880346477032\n",
      "\n",
      "Train accuracy 0.95084 and loss 7.142069734632969\n",
      "\n",
      "Train accuracy 0.95024 and loss 7.318076558411121\n",
      "\n",
      "Train accuracy 0.95198 and loss 6.940181411802769\n",
      "\n",
      "Train accuracy 0.9495 and loss 7.289308495819569\n",
      "\n",
      "Train accuracy 0.9527 and loss 6.791744977235794\n",
      "\n",
      "Train accuracy 0.95494 and loss 6.712189182639122\n",
      "\n",
      "Train accuracy 0.95132 and loss 7.091269455850124\n",
      "\n",
      "Train accuracy 0.95374 and loss 6.828780263662338\n",
      "\n",
      "Train accuracy 0.95376 and loss 6.855350375175476\n",
      "\n",
      "Train accuracy 0.95486 and loss 6.530810669064522\n",
      "\n",
      "Train accuracy 0.95358 and loss 6.769376061856747\n",
      "\n",
      "Train accuracy 0.95526 and loss 6.755695432424545\n",
      "\n",
      "Finished Training\n",
      "Train accuracy 0.95526 and loss 6.755695432424545\n",
      "\n",
      "CPU times: user 20min 36s, sys: 1min 42s, total: 22min 19s\n",
      "Wall time: 22min 19s\n"
     ]
    }
   ],
   "source": [
    "%%time\n",
    "run(40,100,0.001)"
   ]
  },
  {
   "cell_type": "code",
   "execution_count": 22,
   "metadata": {
    "scrolled": true
   },
   "outputs": [
    {
     "name": "stdout",
     "output_type": "stream",
     "text": [
      "Train accuracy 0.9638 and loss 5.247608922421932\n",
      "\n",
      "Train accuracy 0.9695 and loss 4.555219724774361\n",
      "\n",
      "Train accuracy 0.97288 and loss 4.081075444817543\n",
      "\n",
      "Train accuracy 0.97296 and loss 4.021172821521759\n",
      "\n",
      "Train accuracy 0.9734 and loss 3.872068550437689\n",
      "\n",
      "Train accuracy 0.97636 and loss 3.4375724121928215\n",
      "\n",
      "Train accuracy 0.97742 and loss 3.354283470660448\n",
      "\n",
      "Train accuracy 0.97726 and loss 3.395396877080202\n",
      "\n",
      "Train accuracy 0.9761 and loss 3.4142263904213905\n",
      "\n",
      "Train accuracy 0.97806 and loss 3.2414479926228523\n",
      "\n",
      "Train accuracy 0.9778 and loss 3.2731963619589806\n",
      "\n",
      "Train accuracy 0.97956 and loss 2.957782367244363\n",
      "\n",
      "Train accuracy 0.97972 and loss 2.9968150556087494\n",
      "\n",
      "Train accuracy 0.98074 and loss 2.7638172693550587\n",
      "\n",
      "Train accuracy 0.98024 and loss 2.9096366316080093\n",
      "\n",
      "Train accuracy 0.98166 and loss 2.753248555585742\n",
      "\n",
      "Train accuracy 0.98056 and loss 2.8700411282479763\n",
      "\n",
      "Train accuracy 0.98112 and loss 2.8425263799726963\n",
      "\n",
      "Train accuracy 0.98164 and loss 2.764766402542591\n",
      "\n",
      "Train accuracy 0.98116 and loss 2.7700538858771324\n",
      "\n",
      "Train accuracy 0.98246 and loss 2.7233477495610714\n",
      "\n",
      "Train accuracy 0.98242 and loss 2.6423265263438225\n",
      "\n",
      "Train accuracy 0.98312 and loss 2.529664885252714\n",
      "\n",
      "Train accuracy 0.98234 and loss 2.609183706343174\n",
      "\n",
      "Train accuracy 0.9827 and loss 2.558399014174938\n",
      "\n",
      "Train accuracy 0.98378 and loss 2.3639258835464716\n",
      "\n",
      "Train accuracy 0.98428 and loss 2.3911262713372707\n",
      "\n",
      "Train accuracy 0.98304 and loss 2.4807093255221844\n",
      "\n",
      "Train accuracy 0.9833 and loss 2.448578292503953\n",
      "\n",
      "Train accuracy 0.98408 and loss 2.3385595455765724\n",
      "\n",
      "Train accuracy 0.9843 and loss 2.27188834361732\n",
      "\n",
      "Train accuracy 0.9843 and loss 2.307145854458213\n",
      "\n",
      "Train accuracy 0.98398 and loss 2.328157965093851\n",
      "\n",
      "Train accuracy 0.98496 and loss 2.2210906855762005\n",
      "\n",
      "Train accuracy 0.98478 and loss 2.2477108370512724\n",
      "\n",
      "Train accuracy 0.98418 and loss 2.279405627399683\n",
      "\n",
      "Train accuracy 0.98512 and loss 2.179419308900833\n",
      "\n",
      "Train accuracy 0.9857 and loss 2.1713603269308805\n",
      "\n",
      "Train accuracy 0.98592 and loss 2.1328255105763674\n",
      "\n",
      "Train accuracy 0.98558 and loss 2.1376297511160374\n",
      "\n",
      "Finished Training\n",
      "Train accuracy 0.98558 and loss 2.1376297511160374\n",
      "\n",
      "CPU times: user 13min 45s, sys: 1min 7s, total: 14min 52s\n",
      "Wall time: 14min 53s\n"
     ]
    }
   ],
   "source": [
    "%%time\n",
    "run(100,250,0.0001)"
   ]
  },
  {
   "cell_type": "code",
   "execution_count": 23,
   "metadata": {},
   "outputs": [
    {
     "data": {
      "image/png": "[encoded data removed]",
      "text/plain": [
       "<matplotlib.figure.Figure at 0x7f217ddab4e0>"
      ]
     },
     "metadata": {},
     "output_type": "display_data"
    }
   ],
   "source": [
    "plt.plot(loss_data[-30:])\n",
    "plt.grid()\n",
    "plt.show()"
   ]
  },
  {
   "cell_type": "markdown",
   "metadata": {},
   "source": [
    "**Eval the model**\n",
    "\n",
    "----"
   ]
  },
  {
   "cell_type": "code",
   "execution_count": 24,
   "metadata": {},
   "outputs": [
    {
     "data": {
      "text/plain": [
       "Net (\n",
       "  (c1_layer): Sequential (\n",
       "    (0): BatchNorm2d(3, eps=1e-05, momentum=0.1, affine=True)\n",
       "    (1): Conv2d(3, 64, kernel_size=(3, 3), stride=(1, 1), padding=(1, 1))\n",
       "    (2): ReLU ()\n",
       "    (3): Conv2d(64, 64, kernel_size=(3, 3), stride=(1, 1), padding=(1, 1))\n",
       "    (4): MaxPool2d (size=(2, 2), stride=(2, 2), dilation=(1, 1))\n",
       "    (5): ReLU ()\n",
       "    (6): Dropout2d (p=0.25)\n",
       "  )\n",
       "  (c2_layer): Sequential (\n",
       "    (0): Conv2d(64, 128, kernel_size=(3, 3), stride=(1, 1), padding=(1, 1))\n",
       "    (1): ReLU ()\n",
       "    (2): Conv2d(128, 128, kernel_size=(3, 3), stride=(1, 1), padding=(1, 1))\n",
       "    (3): MaxPool2d (size=(2, 2), stride=(2, 2), dilation=(1, 1))\n",
       "    (4): ReLU ()\n",
       "    (5): Dropout2d (p=0.25)\n",
       "  )\n",
       "  (c3_layer): Sequential (\n",
       "    (0): Conv2d(128, 256, kernel_size=(3, 3), stride=(1, 1), padding=(1, 1))\n",
       "    (1): ReLU ()\n",
       "    (2): Conv2d(256, 256, kernel_size=(3, 3), stride=(1, 1), padding=(1, 1))\n",
       "    (3): ReLU ()\n",
       "    (4): Conv2d(256, 256, kernel_size=(3, 3), stride=(1, 1), padding=(1, 1))\n",
       "    (5): ReLU ()\n",
       "    (6): Conv2d(256, 256, kernel_size=(3, 3), stride=(1, 1), padding=(1, 1))\n",
       "    (7): MaxPool2d (size=(2, 2), stride=(2, 2), dilation=(1, 1))\n",
       "    (8): ReLU ()\n",
       "    (9): Dropout2d (p=0.25)\n",
       "  )\n",
       "  (fc_layer): Sequential (\n",
       "    (0): Linear (4096 -> 1024)\n",
       "    (1): ReLU ()\n",
       "    (2): Dropout2d (p=0.5)\n",
       "    (3): Linear (1024 -> 1024)\n",
       "    (4): ReLU ()\n",
       "    (5): Dropout2d (p=0.5)\n",
       "    (6): Linear (1024 -> 10)\n",
       "  )\n",
       ")"
      ]
     },
     "execution_count": 24,
     "metadata": {},
     "output_type": "execute_result"
    }
   ],
   "source": [
    "net.train(False)"
   ]
  },
  {
   "cell_type": "code",
   "execution_count": 25,
   "metadata": {},
   "outputs": [
    {
     "name": "stdout",
     "output_type": "stream",
     "text": [
      "test accuracy 0.8674 and loss 6.838100969791412\n",
      "\n",
      "Accuracy of plane : 87 %\n",
      "Accuracy of   car : 93 %\n",
      "Accuracy of  bird : 81 %\n",
      "Accuracy of   cat : 71 %\n",
      "Accuracy of  deer : 87 %\n",
      "Accuracy of   dog : 80 %\n",
      "Accuracy of  frog : 91 %\n",
      "Accuracy of horse : 90 %\n",
      "Accuracy of  ship : 92 %\n",
      "Accuracy of truck : 92 %\n"
     ]
    }
   ],
   "source": [
    "classes = ('plane', 'car', 'bird', 'cat',\n",
    "           'deer', 'dog', 'frog', 'horse', 'ship', 'truck')\n",
    "class_correct = list(0. for i in range(10))\n",
    "class_total = list(0. for i in range(10))\n",
    "\n",
    "running_corrects=0\n",
    "running_loss=0\n",
    "y_hat = []\n",
    "for data in testloader:\n",
    "    images, labels = data\n",
    "    images, labels = images.cuda(), labels.cuda()\n",
    "    outputs = net(Variable(images, volatile=True))\n",
    "    \n",
    "    loss = criterion(outputs, Variable(labels, volatile=True))\n",
    "    running_loss += loss.data[0]\n",
    "    _, preds = torch.max(outputs.data, 1)\n",
    "    running_corrects += torch.sum(preds == labels)\n",
    "    \n",
    "    y_hat.append(outputs)\n",
    "        \n",
    "    _, predicted = torch.max(outputs.data, 1)\n",
    "    c = (predicted == labels).squeeze()\n",
    "    for i in range(1000):\n",
    "        label = labels[i]\n",
    "        class_correct[label] += c[i]\n",
    "        class_total[label] += 1 \n",
    "print (\"test accuracy %s and loss %s\\n\" %(running_corrects/10000,running_loss))\n",
    "\n",
    "for i in range(10):\n",
    "    print('Accuracy of %5s : %2d %%' % (\n",
    "        classes[i], 100 * class_correct[i] / class_total[i]))"
   ]
  },
  {
   "cell_type": "code",
   "execution_count": 28,
   "metadata": {},
   "outputs": [
    {
     "name": "stdout",
     "output_type": "stream",
     "text": [
      "3CNN_1fc_layer.ipynb\n",
      "92perc_2cnn.pkl\n",
      "92perc_3cnn.pkl\n",
      "README.md\n",
      "cnn_88perc_test.ipynb\n",
      "data\n"
     ]
    }
   ],
   "source": [
    "%%bash\n",
    "rm *.csv\n",
    "ls"
   ]
  },
  {
   "cell_type": "code",
   "execution_count": 29,
   "metadata": {
    "collapsed": true
   },
   "outputs": [],
   "source": [
    "import pandas\n",
    "d = pandas.DataFrame()\n",
    "d['id'] = range(10000)\n",
    "res = y_hat\n",
    "res = y_hat[0].data.cpu().numpy()\n",
    "for i in range(1, 10):\n",
    "    res = np.vstack((res, y_hat[i].cpu().data.numpy()))\n",
    "        \n",
    "for i in range(10):\n",
    "    res = np.array(res, dtype=np.float128)\n",
    "    d['c%s' % i] = np.exp(res[:, i])\n",
    "d.to_csv('./ground1.csv', index=False)"
   ]
  },
  {
   "cell_type": "markdown",
   "metadata": {
    "collapsed": true
   },
   "source": [
    "**Save parametrs to pickle**\n",
    "\n",
    "----"
   ]
  },
  {
   "cell_type": "code",
   "execution_count": 14,
   "metadata": {
    "collapsed": true
   },
   "outputs": [],
   "source": [
    "net_parametrs = net.state_dict()\n",
    "with open('./92perc_3cnn.pkl','wb') as f:\n",
    "    pickle.dump(net_parametrs,f)"
   ]
  },
  {
   "cell_type": "code",
   "execution_count": 15,
   "metadata": {
    "collapsed": true
   },
   "outputs": [],
   "source": [
    "with open('./92perc_3cnn.pkl','rb') as f:\n",
    "    result_nets = pickle.load(f)\n",
    "net.load_state_dict(result_nets)"
   ]
  },
  {
   "cell_type": "code",
   "execution_count": null,
   "metadata": {
    "collapsed": true
   },
   "outputs": [],
   "source": []
  }
 ],
 "metadata": {
  "kernelspec": {
   "display_name": "Python 3",
   "language": "python",
   "name": "python3"
  },
  "language_info": {
   "codemirror_mode": {
    "name": "ipython",
    "version": 3
   },
   "file_extension": ".py",
   "mimetype": "text/x-python",
   "name": "python",
   "nbconvert_exporter": "python",
   "pygments_lexer": "ipython3",
   "version": "3.6.2"
  }
 },
 "nbformat": 4,
 "nbformat_minor": 2
}
