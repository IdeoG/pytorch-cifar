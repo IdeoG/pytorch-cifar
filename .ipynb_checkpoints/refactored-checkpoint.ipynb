{
 "cells": [
  {
   "cell_type": "markdown",
   "metadata": {},
   "source": [
    "**Imports**\n",
    "\n",
    "----"
   ]
  },
  {
   "cell_type": "code",
   "execution_count": 27,
   "metadata": {
    "collapsed": true
   },
   "outputs": [],
   "source": [
    "from tqdm import *\n",
    "import pickle\n",
    "import numpy as np\n",
    "import matplotlib.pyplot as plt"
   ]
  },
  {
   "cell_type": "code",
   "execution_count": 28,
   "metadata": {
    "collapsed": true
   },
   "outputs": [],
   "source": [
    "import torch\n",
    "import torch.nn as nn\n",
    "from torch.autograd import Variable\n",
    "from torchvision import transforms"
   ]
  },
  {
   "cell_type": "code",
   "execution_count": 29,
   "metadata": {
    "collapsed": true
   },
   "outputs": [],
   "source": [
    "def unpickle(file):\n",
    "    import pickle\n",
    "    with open(file, 'rb') as fo:\n",
    "        dict = pickle.load(fo, encoding='bytes')\n",
    "    return dict"
   ]
  },
  {
   "cell_type": "markdown",
   "metadata": {},
   "source": [
    "**Load data**\n",
    "\n",
    "----"
   ]
  },
  {
   "cell_type": "code",
   "execution_count": 30,
   "metadata": {},
   "outputs": [],
   "source": [
    "X = []\n",
    "Y = []\n",
    "\n",
    "for b in range(1, 6):\n",
    "    D = unpickle('./cifar-10-batches-py/data_batch_%s' % b)\n",
    "    X.append( D[b'data'].reshape((-1, 3, 32, 32)).astype('uint8') )\n",
    "    Y.append( np.array(D[b'labels']))\n",
    "    names = [x.decode('utf-8') for x in D]\n",
    "\n",
    "X = np.vstack(X)\n",
    "Y = np.hstack(Y).astype('int')\n",
    "\n",
    "D = unpickle('./cifar-10-batches-py/test_batch')\n",
    "Xt = D[b'data'].reshape((-1, 3, 32, 32)).astype('uint8')\n",
    "Yt = np.array(D[b'labels']).astype('int')\n",
    "Lt = D[b'filenames']"
   ]
  },
  {
   "cell_type": "markdown",
   "metadata": {},
   "source": [
    "**Normalize**\n",
    "\n",
    "----"
   ]
  },
  {
   "cell_type": "raw",
   "metadata": {},
   "source": [
    "%%time\n",
    "\n",
    "Xa = []\n",
    "Ya = []\n",
    "\n",
    "for i in range(X.shape[0]):\n",
    "    x = X[i]\n",
    "    x = torch.from_numpy(x)\n",
    "    x = to_tensor(to_img(x)).numpy()\n",
    "    \n",
    "    Xa.append(x.tolist())\n",
    "    Ya.append(Y[i].tolist())"
   ]
  },
  {
   "cell_type": "markdown",
   "metadata": {},
   "source": [
    "**Augmentation**\n",
    "\n",
    "----"
   ]
  },
  {
   "cell_type": "raw",
   "metadata": {},
   "source": [
    "to_img = transforms.ToPILImage()\n",
    "resized_crop = transforms.RandomResizedCrop(32)\n",
    "crop = transforms.RandomCrop([32,32])\n",
    "central_crop = transforms.CenterCrop([32,32])\n",
    "flip = transforms.RandomHorizontalFlip()\n",
    "color = transforms.ColorJitter(brightness=0.5,contrast=0,saturation=0)\n",
    "gray = transforms.Grayscale()\n",
    "to_tensor = transforms.ToTensor()"
   ]
  },
  {
   "cell_type": "markdown",
   "metadata": {},
   "source": [
    "**Create model**\n",
    "\n",
    "----"
   ]
  },
  {
   "cell_type": "code",
   "execution_count": 97,
   "metadata": {},
   "outputs": [],
   "source": [
    "class Net(nn.Module):  \n",
    "    def __init__(self):\n",
    "        super(Net, self).__init__()\n",
    "        \n",
    "        dropout_parameter = 0.3\n",
    "        \n",
    "        input_size = 3        \n",
    "        hidden_layer1_size = 48\n",
    "        hidden_layer2_size = 96\n",
    "        self.hidden_fc_layer_size = 96 * 6 * 6\n",
    "        output_size = 10\n",
    "        \n",
    "        \n",
    "        self.input_norm = nn.BatchNorm2d(input_size)\n",
    "        \n",
    "        self.layer1 = nn.Sequential( \\\n",
    "                                    nn.Conv2d(in_channels=input_size, out_channels=hidden_layer1_size, kernel_size=3, padding=1, stride=1),\n",
    "                                    nn.ReLU(),\n",
    "                                    nn.Conv2d(in_channels=hidden_layer1_size, out_channels=hidden_layer1_size, kernel_size=3, padding=0, stride=1),\n",
    "                                    nn.Dropout2d(dropout_parameter),\n",
    "                                    nn.BatchNorm2d(hidden_layer1_size),\n",
    "                                    nn.ReLU(),\n",
    "                                    nn.MaxPool2d(2, stride = 2)\n",
    "                                   )\n",
    "        \n",
    "        self.layer2 = nn.Sequential( \\\n",
    "                                    nn.Conv2d(in_channels=hidden_layer1_size, out_channels=hidden_layer2_size, kernel_size=3, padding=1, stride=1),\n",
    "                                    nn.ReLU(),\n",
    "                                    nn.Conv2d(in_channels=hidden_layer2_size, out_channels=hidden_layer2_size, kernel_size=3, padding=0, stride=1),\n",
    "                                    nn.Dropout2d(dropout_parameter),\n",
    "                                    nn.BatchNorm2d(hidden_layer2_size),\n",
    "                                    nn.ReLU(),\n",
    "                                    nn.MaxPool2d(2, stride = 2)\n",
    "                                   )\n",
    "        \n",
    "       \n",
    "        self.fc_layer = nn.Sequential( \\\n",
    "                                      nn.Linear(self.hidden_fc_layer_size, output_size * 100),\n",
    "                                      nn.Dropout2d(),\n",
    "                                      nn.ReLU(),\n",
    "                                      nn.Linear(output_size * 100, output_size * 100),\n",
    "                                      nn.Dropout2d(),\n",
    "                                      nn.ReLU(),\n",
    "                                      nn.Linear(output_size * 100, output_size)\n",
    "                                     )\n",
    "\n",
    "    def forward(self, x): \n",
    "        x = self.input_norm(x)\n",
    "        x = self.layer1(x)\n",
    "        x = self.layer2(x)\n",
    "        x = x.view(-1, self.hidden_fc_layer_size)\n",
    "        self.fc_layer(x)\n",
    "        return x "
   ]
  },
  {
   "cell_type": "code",
   "execution_count": 98,
   "metadata": {},
   "outputs": [
    {
     "data": {
      "text/plain": [
       "False"
      ]
     },
     "execution_count": 98,
     "metadata": {},
     "output_type": "execute_result"
    }
   ],
   "source": [
    "a = not True\n",
    "a"
   ]
  },
  {
   "cell_type": "markdown",
   "metadata": {},
   "source": [
    "**Hyperparams**\n",
    "\n",
    "----"
   ]
  },
  {
   "cell_type": "code",
   "execution_count": 99,
   "metadata": {
    "collapsed": true
   },
   "outputs": [],
   "source": [
    "class Hyperparams:\n",
    "    def __init__(self):\n",
    "        self.lr = 0.1\n",
    "        self.lock = -4\n",
    "        self.logic = False\n",
    "        \n",
    "    def update(self, epoch, loss=None):\n",
    "        if epoch < 5:\n",
    "            self.lr = 0.1\n",
    "        elif epoch < 20:\n",
    "            self.lr = 0.01\n",
    "        elif epoch < 100:\n",
    "            self.lr = 0.001\n",
    "        else:\n",
    "            self.lr = 0.0001\n",
    "        \n",
    "        if loss is not None:\n",
    "            print (loss)\n",
    "            loss = np.array(loss)\n",
    "            '''make punch and let it rest for 5 iter'''\n",
    "            print(\"Last %s loss std %s and mean %s\" %(loss.shape,loss.std(),loss.mean()))\n",
    "            if (loss.std() < 0.4) and (hp.lock + 4 < epoch):\n",
    "                if self.logic: self.lr = 10 * self.lr\n",
    "                else: self.lr = self.lr / 10\n",
    "                self.lock = epoch\n",
    "                print(\"PUNCH!\")\n",
    "                self.logic = not self.logic"
   ]
  },
  {
   "cell_type": "markdown",
   "metadata": {},
   "source": [
    "**Learn the model**\n",
    "\n",
    "----"
   ]
  },
  {
   "cell_type": "code",
   "execution_count": 100,
   "metadata": {},
   "outputs": [
    {
     "data": {
      "text/plain": [
       "Net (\n",
       "  (input_norm): BatchNorm2d(3, eps=1e-05, momentum=0.1, affine=True)\n",
       "  (layer1): Sequential (\n",
       "    (0): Conv2d(3, 48, kernel_size=(3, 3), stride=(1, 1), padding=(1, 1))\n",
       "    (1): ReLU ()\n",
       "    (2): Conv2d(48, 48, kernel_size=(3, 3), stride=(1, 1))\n",
       "    (3): Dropout2d (p=0.3)\n",
       "    (4): BatchNorm2d(48, eps=1e-05, momentum=0.1, affine=True)\n",
       "    (5): ReLU ()\n",
       "    (6): MaxPool2d (size=(2, 2), stride=(2, 2), dilation=(1, 1))\n",
       "  )\n",
       "  (layer2): Sequential (\n",
       "    (0): Conv2d(48, 96, kernel_size=(3, 3), stride=(1, 1), padding=(1, 1))\n",
       "    (1): ReLU ()\n",
       "    (2): Conv2d(96, 96, kernel_size=(3, 3), stride=(1, 1))\n",
       "    (3): Dropout2d (p=0.3)\n",
       "    (4): BatchNorm2d(96, eps=1e-05, momentum=0.1, affine=True)\n",
       "    (5): ReLU ()\n",
       "    (6): MaxPool2d (size=(2, 2), stride=(2, 2), dilation=(1, 1))\n",
       "  )\n",
       "  (fn_layer): Sequential (\n",
       "    (0): Linear (3456 -> 1000)\n",
       "    (1): Dropout2d (p=0.5)\n",
       "    (2): ReLU ()\n",
       "    (3): Linear (1000 -> 1000)\n",
       "    (4): Dropout2d (p=0.5)\n",
       "    (5): ReLU ()\n",
       "    (6): Linear (1000 -> 10)\n",
       "  )\n",
       ")"
      ]
     },
     "execution_count": 100,
     "metadata": {},
     "output_type": "execute_result"
    }
   ],
   "source": [
    "net = Net().cuda()\n",
    "net"
   ]
  },
  {
   "cell_type": "code",
   "execution_count": 101,
   "metadata": {
    "collapsed": true
   },
   "outputs": [],
   "source": [
    "hp = Hyperparams()\n",
    "\n",
    "criterion = nn.CrossEntropyLoss().cuda()\n",
    "optimizer = torch.optim.Adam(net.parameters(), lr=hp.lr)\n",
    "\n",
    "train_epoch_loss_list = []\n",
    "test_epoch_loss_list = []"
   ]
  },
  {
   "cell_type": "code",
   "execution_count": null,
   "metadata": {},
   "outputs": [
    {
     "name": "stderr",
     "output_type": "stream",
     "text": [
      "\r",
      "  0%|          | 0/160 [00:00<?, ?it/s]"
     ]
    },
    {
     "name": "stdout",
     "output_type": "stream",
     "text": [
      "\n",
      "Epoch 1/160\n",
      "Epoch train accuracy 0.0968\n"
     ]
    },
    {
     "name": "stderr",
     "output_type": "stream",
     "text": [
      "\r",
      "  1%|          | 1/160 [00:18<49:46, 18.78s/it]"
     ]
    },
    {
     "name": "stdout",
     "output_type": "stream",
     "text": [
      "Epoch test accuracy 0.1004\n",
      "Epoch loss: train 233.00094866752625 and test: 32.78002619743347\n",
      "lr 0.1\n",
      "\n",
      "\n",
      "Epoch 2/160\n",
      "Epoch train accuracy 0.11924\n"
     ]
    },
    {
     "name": "stderr",
     "output_type": "stream",
     "text": [
      "\r",
      "  1%|▏         | 2/160 [00:37<50:00, 18.99s/it]"
     ]
    },
    {
     "name": "stdout",
     "output_type": "stream",
     "text": [
      "Epoch test accuracy 0.0972\n",
      "Epoch loss: train 167.35193729400635 and test: 30.597297191619873\n",
      "lr 0.1\n",
      "\n",
      "\n",
      "Epoch 3/160\n",
      "Epoch train accuracy 0.12976\n"
     ]
    },
    {
     "name": "stderr",
     "output_type": "stream",
     "text": [
      "\r",
      "  2%|▏         | 3/160 [00:57<50:32, 19.31s/it]"
     ]
    },
    {
     "name": "stdout",
     "output_type": "stream",
     "text": [
      "Epoch test accuracy 0.0995\n",
      "Epoch loss: train 160.00437664985657 and test: 29.872230529785156\n",
      "lr 0.1\n",
      "\n",
      "\n",
      "Epoch 4/160\n",
      "Epoch train accuracy 0.13694\n"
     ]
    },
    {
     "name": "stderr",
     "output_type": "stream",
     "text": [
      "\r",
      "  2%|▎         | 4/160 [01:18<50:58, 19.61s/it]"
     ]
    },
    {
     "name": "stdout",
     "output_type": "stream",
     "text": [
      "Epoch test accuracy 0.0938\n",
      "Epoch loss: train 157.12176036834717 and test: 29.090797662734985\n",
      "lr 0.1\n",
      "\n",
      "\n",
      "Epoch 5/160\n",
      "Epoch train accuracy 0.13836\n"
     ]
    },
    {
     "name": "stderr",
     "output_type": "stream",
     "text": [
      "\r",
      "  3%|▎         | 5/160 [01:37<50:31, 19.56s/it]"
     ]
    },
    {
     "name": "stdout",
     "output_type": "stream",
     "text": [
      "Epoch test accuracy 0.0989\n",
      "Epoch loss: train 154.57818150520325 and test: 28.476508140563965\n",
      "lr 0.1\n",
      "\n",
      "[167.35193729400635, 160.00437664985657, 157.12176036834717, 154.57818150520325]\n",
      "Last (4,) loss std 4.78300943516 and mean 159.764063954\n",
      "\n",
      "Epoch 6/160\n",
      "Epoch train accuracy 0.1387\n"
     ]
    },
    {
     "name": "stderr",
     "output_type": "stream",
     "text": [
      "\r",
      "  4%|▍         | 6/160 [01:56<49:56, 19.46s/it]"
     ]
    },
    {
     "name": "stdout",
     "output_type": "stream",
     "text": [
      "Epoch test accuracy 0.0974\n",
      "Epoch loss: train 153.13293385505676 and test: 28.47804880142212\n",
      "lr 0.01\n",
      "\n",
      "[160.00437664985657, 157.12176036834717, 154.57818150520325, 153.13293385505676]\n",
      "Last (4,) loss std 2.61532822525 and mean 156.209313095\n",
      "\n",
      "Epoch 7/160\n",
      "Epoch train accuracy 0.14224\n"
     ]
    },
    {
     "name": "stderr",
     "output_type": "stream",
     "text": [
      "\r",
      "  4%|▍         | 7/160 [02:15<49:26, 19.39s/it]"
     ]
    },
    {
     "name": "stdout",
     "output_type": "stream",
     "text": [
      "Epoch test accuracy 0.0955\n",
      "Epoch loss: train 152.43752455711365 and test: 28.312418222427368\n",
      "lr 0.01\n",
      "\n",
      "[157.12176036834717, 154.57818150520325, 153.13293385505676, 152.43752455711365]\n",
      "Last (4,) loss std 1.7936928136 and mean 154.317600071\n",
      "\n",
      "Epoch 8/160\n",
      "Epoch train accuracy 0.1435\n"
     ]
    },
    {
     "name": "stderr",
     "output_type": "stream",
     "text": [
      "\r",
      "  5%|▌         | 8/160 [02:35<49:09, 19.40s/it]"
     ]
    },
    {
     "name": "stdout",
     "output_type": "stream",
     "text": [
      "Epoch test accuracy 0.1037\n",
      "Epoch loss: train 151.852605342865 and test: 28.16768169403076\n",
      "lr 0.01\n",
      "\n",
      "[154.57818150520325, 153.13293385505676, 152.43752455711365, 151.852605342865]\n",
      "Last (4,) loss std 1.01749950965 and mean 153.000311315\n",
      "\n",
      "Epoch 9/160\n",
      "Epoch train accuracy 0.14384\n"
     ]
    },
    {
     "name": "stderr",
     "output_type": "stream",
     "text": [
      "\r",
      "  6%|▌         | 9/160 [02:54<48:42, 19.35s/it]"
     ]
    },
    {
     "name": "stdout",
     "output_type": "stream",
     "text": [
      "Epoch test accuracy 0.1\n",
      "Epoch loss: train 151.63624620437622 and test: 28.123003721237183\n",
      "lr 0.01\n",
      "\n",
      "[153.13293385505676, 152.43752455711365, 151.852605342865, 151.63624620437622]\n",
      "Last (4,) loss std 0.580619167197 and mean 152.26482749\n",
      "\n",
      "Epoch 10/160\n",
      "Epoch train accuracy 0.1449\n"
     ]
    },
    {
     "name": "stderr",
     "output_type": "stream",
     "text": [
      "\r",
      "  6%|▋         | 10/160 [03:13<48:19, 19.33s/it]"
     ]
    },
    {
     "name": "stdout",
     "output_type": "stream",
     "text": [
      "Epoch test accuracy 0.0966\n",
      "Epoch loss: train 151.4037573337555 and test: 28.189973831176758\n",
      "lr 0.01\n",
      "\n",
      "[152.43752455711365, 151.852605342865, 151.63624620437622, 151.4037573337555]\n",
      "Last (4,) loss std 0.383664815049 and mean 151.83253336\n",
      "PUNCH!\n",
      "\n",
      "Epoch 11/160\n",
      "Epoch train accuracy 0.14372\n"
     ]
    },
    {
     "name": "stderr",
     "output_type": "stream",
     "text": [
      "\r",
      "  7%|▋         | 11/160 [03:31<47:50, 19.27s/it]"
     ]
    },
    {
     "name": "stdout",
     "output_type": "stream",
     "text": [
      "Epoch test accuracy 0.1027\n",
      "Epoch loss: train 151.28410530090332 and test: 28.05645751953125\n",
      "lr 0.001\n",
      "\n",
      "[151.852605342865, 151.63624620437622, 151.4037573337555, 151.28410530090332]\n",
      "Last (4,) loss std 0.218494709551 and mean 151.544178545\n",
      "\n",
      "Epoch 12/160\n",
      "Epoch train accuracy 0.1428\n"
     ]
    },
    {
     "name": "stderr",
     "output_type": "stream",
     "text": [
      "\r",
      "  8%|▊         | 12/160 [03:50<47:24, 19.22s/it]"
     ]
    },
    {
     "name": "stdout",
     "output_type": "stream",
     "text": [
      "Epoch test accuracy 0.0975\n",
      "Epoch loss: train 150.97156858444214 and test: 27.9472873210907\n",
      "lr 0.01\n",
      "\n",
      "[151.63624620437622, 151.4037573337555, 151.28410530090332, 150.97156858444214]\n",
      "Last (4,) loss std 0.239613432485 and mean 151.323919356\n",
      "\n",
      "Epoch 13/160\n",
      "Epoch train accuracy 0.1449\n"
     ]
    },
    {
     "name": "stderr",
     "output_type": "stream",
     "text": [
      "\r",
      "  8%|▊         | 13/160 [04:09<47:01, 19.20s/it]"
     ]
    },
    {
     "name": "stdout",
     "output_type": "stream",
     "text": [
      "Epoch test accuracy 0.0936\n",
      "Epoch loss: train 150.97780203819275 and test: 27.888265132904053\n",
      "lr 0.01\n",
      "\n",
      "[151.4037573337555, 151.28410530090332, 150.97156858444214, 150.97780203819275]\n",
      "Last (4,) loss std 0.189420395821 and mean 151.159308314\n",
      "\n",
      "Epoch 14/160\n",
      "Epoch train accuracy 0.1438\n"
     ]
    },
    {
     "name": "stderr",
     "output_type": "stream",
     "text": [
      "\r",
      "  9%|▉         | 14/160 [04:28<46:40, 19.18s/it]"
     ]
    },
    {
     "name": "stdout",
     "output_type": "stream",
     "text": [
      "Epoch test accuracy 0.0937\n",
      "Epoch loss: train 150.56205677986145 and test: 27.881697416305542\n",
      "lr 0.01\n",
      "\n",
      "[151.28410530090332, 150.97156858444214, 150.97780203819275, 150.56205677986145]\n",
      "Last (4,) loss std 0.25659280101 and mean 150.948883176\n",
      "\n",
      "Epoch 15/160\n",
      "Epoch train accuracy 0.14574\n"
     ]
    },
    {
     "name": "stderr",
     "output_type": "stream",
     "text": [
      "\r",
      "  9%|▉         | 15/160 [04:47<46:23, 19.20s/it]"
     ]
    },
    {
     "name": "stdout",
     "output_type": "stream",
     "text": [
      "Epoch test accuracy 0.102\n",
      "Epoch loss: train 150.76653623580933 and test: 27.938265323638916\n",
      "lr 0.01\n",
      "\n",
      "[150.97156858444214, 150.97780203819275, 150.56205677986145, 150.76653623580933]\n",
      "Last (4,) loss std 0.17122102766 and mean 150.81949091\n",
      "PUNCH!\n",
      "\n",
      "Epoch 16/160\n",
      "Epoch train accuracy 0.1446\n"
     ]
    },
    {
     "name": "stderr",
     "output_type": "stream",
     "text": [
      "\r",
      " 10%|█         | 16/160 [05:06<46:00, 19.17s/it]"
     ]
    },
    {
     "name": "stdout",
     "output_type": "stream",
     "text": [
      "Epoch test accuracy 0.0942\n",
      "Epoch loss: train 150.3684504032135 and test: 27.892476081848145\n",
      "lr 0.1\n",
      "\n",
      "[150.97780203819275, 150.56205677986145, 150.76653623580933, 150.3684504032135]\n",
      "Last (4,) loss std 0.22728759057 and mean 150.668711364\n",
      "\n",
      "Epoch 17/160\n",
      "Epoch train accuracy 0.14022\n"
     ]
    },
    {
     "name": "stderr",
     "output_type": "stream",
     "text": [
      "\r",
      " 11%|█         | 17/160 [05:26<45:42, 19.18s/it]"
     ]
    },
    {
     "name": "stdout",
     "output_type": "stream",
     "text": [
      "Epoch test accuracy 0.0957\n",
      "Epoch loss: train 152.2458257675171 and test: 27.80787682533264\n",
      "lr 0.01\n",
      "\n",
      "[150.56205677986145, 150.76653623580933, 150.3684504032135, 152.2458257675171]\n",
      "Last (4,) loss std 0.74101625269 and mean 150.985717297\n",
      "\n",
      "Epoch 18/160\n",
      "Epoch train accuracy 0.14592\n"
     ]
    },
    {
     "name": "stderr",
     "output_type": "stream",
     "text": [
      "\r",
      " 11%|█▏        | 18/160 [05:44<45:19, 19.15s/it]"
     ]
    },
    {
     "name": "stdout",
     "output_type": "stream",
     "text": [
      "Epoch test accuracy 0.0977\n",
      "Epoch loss: train 150.57952880859375 and test: 27.776866674423218\n",
      "lr 0.01\n",
      "\n",
      "[150.76653623580933, 150.3684504032135, 152.2458257675171, 150.57952880859375]\n",
      "Last (4,) loss std 0.738553465126 and mean 150.990085304\n",
      "\n",
      "Epoch 19/160\n",
      "Epoch train accuracy 0.14778\n"
     ]
    },
    {
     "name": "stderr",
     "output_type": "stream",
     "text": [
      "\r",
      " 12%|█▏        | 19/160 [06:03<45:00, 19.16s/it]"
     ]
    },
    {
     "name": "stdout",
     "output_type": "stream",
     "text": [
      "Epoch test accuracy 0.1004\n",
      "Epoch loss: train 149.73231720924377 and test: 27.71041440963745\n",
      "lr 0.01\n",
      "\n",
      "[150.3684504032135, 152.2458257675171, 150.57952880859375, 149.73231720924377]\n",
      "Last (4,) loss std 0.928230713309 and mean 150.731530547\n",
      "\n",
      "Epoch 20/160\n",
      "Epoch train accuracy 0.14814\n"
     ]
    },
    {
     "name": "stderr",
     "output_type": "stream",
     "text": [
      "\r",
      " 12%|█▎        | 20/160 [06:22<44:38, 19.13s/it]"
     ]
    },
    {
     "name": "stdout",
     "output_type": "stream",
     "text": [
      "Epoch test accuracy 0.0922\n",
      "Epoch loss: train 149.51189279556274 and test: 27.701629638671875\n",
      "lr 0.01\n",
      "\n",
      "[152.2458257675171, 150.57952880859375, 149.73231720924377, 149.51189279556274]\n",
      "Last (4,) loss std 1.07455983417 and mean 150.517391145\n",
      "\n",
      "Epoch 21/160\n",
      "Epoch train accuracy 0.14832\n"
     ]
    },
    {
     "name": "stderr",
     "output_type": "stream",
     "text": [
      "\r",
      " 13%|█▎        | 21/160 [06:42<44:22, 19.15s/it]"
     ]
    },
    {
     "name": "stdout",
     "output_type": "stream",
     "text": [
      "Epoch test accuracy 0.0962\n",
      "Epoch loss: train 149.6364941596985 and test: 27.57575011253357\n",
      "lr 0.001\n",
      "\n",
      "[150.57952880859375, 149.73231720924377, 149.51189279556274, 149.6364941596985]\n",
      "Last (4,) loss std 0.419837987973 and mean 149.865058243\n",
      "\n",
      "Epoch 22/160\n",
      "Epoch train accuracy 0.14928\n"
     ]
    },
    {
     "name": "stderr",
     "output_type": "stream",
     "text": [
      "\r",
      " 14%|█▍        | 22/160 [07:01<44:05, 19.17s/it]"
     ]
    },
    {
     "name": "stdout",
     "output_type": "stream",
     "text": [
      "Epoch test accuracy 0.1018\n",
      "Epoch loss: train 149.33742833137512 and test: 27.49079465866089\n",
      "lr 0.001\n",
      "\n",
      "[149.73231720924377, 149.51189279556274, 149.6364941596985, 149.33742833137512]\n",
      "Last (4,) loss std 0.147713811921 and mean 149.554533124\n",
      "PUNCH!\n",
      "\n",
      "Epoch 23/160\n",
      "Epoch train accuracy 0.15016\n"
     ]
    },
    {
     "name": "stderr",
     "output_type": "stream",
     "text": [
      "\r",
      " 14%|█▍        | 23/160 [07:20<43:45, 19.16s/it]"
     ]
    },
    {
     "name": "stdout",
     "output_type": "stream",
     "text": [
      "Epoch test accuracy 0.0979\n",
      "Epoch loss: train 149.37393164634705 and test: 27.49830937385559\n",
      "lr 0.0001\n",
      "\n",
      "[149.51189279556274, 149.6364941596985, 149.33742833137512, 149.37393164634705]\n",
      "Last (4,) loss std 0.118508586976 and mean 149.464936733\n",
      "\n",
      "Epoch 24/160\n",
      "Epoch train accuracy 0.15166\n"
     ]
    },
    {
     "name": "stderr",
     "output_type": "stream",
     "text": [
      "\r",
      " 15%|█▌        | 24/160 [07:39<43:26, 19.16s/it]"
     ]
    },
    {
     "name": "stdout",
     "output_type": "stream",
     "text": [
      "Epoch test accuracy 0.0977\n",
      "Epoch loss: train 149.01072025299072 and test: 27.50736403465271\n",
      "lr 0.001\n",
      "\n",
      "[149.6364941596985, 149.33742833137512, 149.37393164634705, 149.01072025299072]\n",
      "Last (4,) loss std 0.222200022805 and mean 149.339643598\n",
      "\n",
      "Epoch 25/160\n",
      "Epoch train accuracy 0.149\n"
     ]
    },
    {
     "name": "stderr",
     "output_type": "stream",
     "text": [
      "\r",
      " 16%|█▌        | 25/160 [07:58<43:06, 19.16s/it]"
     ]
    },
    {
     "name": "stdout",
     "output_type": "stream",
     "text": [
      "Epoch test accuracy 0.101\n",
      "Epoch loss: train 149.35410404205322 and test: 27.533576250076294\n",
      "lr 0.001\n",
      "\n",
      "[149.33742833137512, 149.37393164634705, 149.01072025299072, 149.35410404205322]\n",
      "Last (4,) loss std 0.149703209835 and mean 149.269046068\n",
      "\n",
      "Epoch 26/160\n",
      "Epoch train accuracy 0.15022\n"
     ]
    },
    {
     "name": "stderr",
     "output_type": "stream",
     "text": [
      "\r",
      " 16%|█▋        | 26/160 [08:17<42:46, 19.15s/it]"
     ]
    },
    {
     "name": "stdout",
     "output_type": "stream",
     "text": [
      "Epoch test accuracy 0.0929\n",
      "Epoch loss: train 149.34345984458923 and test: 27.467495918273926\n",
      "lr 0.001\n",
      "\n",
      "[149.37393164634705, 149.01072025299072, 149.35410404205322, 149.34345984458923]\n",
      "Last (4,) loss std 0.150413085827 and mean 149.270553946\n",
      "\n",
      "Epoch 27/160\n",
      "Epoch train accuracy 0.14942\n"
     ]
    },
    {
     "name": "stderr",
     "output_type": "stream",
     "text": [
      "\r",
      " 17%|█▋        | 27/160 [08:36<42:26, 19.15s/it]"
     ]
    },
    {
     "name": "stdout",
     "output_type": "stream",
     "text": [
      "Epoch test accuracy 0.0965\n",
      "Epoch loss: train 149.28784084320068 and test: 27.486947536468506\n",
      "lr 0.001\n",
      "\n",
      "[149.01072025299072, 149.35410404205322, 149.34345984458923, 149.28784084320068]\n",
      "Last (4,) loss std 0.139870803714 and mean 149.249031246\n",
      "PUNCH!\n",
      "\n",
      "Epoch 28/160\n",
      "Epoch train accuracy 0.15112\n"
     ]
    },
    {
     "name": "stderr",
     "output_type": "stream",
     "text": [
      "\r",
      " 18%|█▊        | 28/160 [08:55<42:05, 19.13s/it]"
     ]
    },
    {
     "name": "stdout",
     "output_type": "stream",
     "text": [
      "Epoch test accuracy 0.0939\n",
      "Epoch loss: train 149.04545402526855 and test: 27.473308801651\n",
      "lr 0.01\n",
      "\n",
      "[149.35410404205322, 149.34345984458923, 149.28784084320068, 149.04545402526855]\n",
      "Last (4,) loss std 0.125105269297 and mean 149.257714689\n",
      "\n",
      "Epoch 29/160\n",
      "Epoch train accuracy 0.1488\n"
     ]
    },
    {
     "name": "stderr",
     "output_type": "stream",
     "text": [
      "\r",
      " 18%|█▊        | 29/160 [09:15<41:47, 19.14s/it]"
     ]
    },
    {
     "name": "stdout",
     "output_type": "stream",
     "text": [
      "Epoch test accuracy 0.0971\n",
      "Epoch loss: train 149.23967671394348 and test: 27.610140562057495\n",
      "lr 0.001\n",
      "\n",
      "[149.34345984458923, 149.28784084320068, 149.04545402526855, 149.23967671394348]\n",
      "Last (4,) loss std 0.11221226691 and mean 149.229107857\n",
      "\n",
      "Epoch 30/160\n",
      "Epoch train accuracy 0.15118\n"
     ]
    },
    {
     "name": "stderr",
     "output_type": "stream",
     "text": [
      "\r",
      " 19%|█▉        | 30/160 [09:34<41:28, 19.14s/it]"
     ]
    },
    {
     "name": "stdout",
     "output_type": "stream",
     "text": [
      "Epoch test accuracy 0.1\n",
      "Epoch loss: train 148.78549599647522 and test: 27.470577716827393\n",
      "lr 0.001\n",
      "\n",
      "[149.28784084320068, 149.04545402526855, 149.23967671394348, 148.78549599647522]\n",
      "Last (4,) loss std 0.197642709759 and mean 149.089616895\n",
      "\n",
      "Epoch 31/160\n",
      "Epoch train accuracy 0.1514\n"
     ]
    },
    {
     "name": "stderr",
     "output_type": "stream",
     "text": [
      "\r",
      " 19%|█▉        | 31/160 [09:53<41:10, 19.15s/it]"
     ]
    },
    {
     "name": "stdout",
     "output_type": "stream",
     "text": [
      "Epoch test accuracy 0.0934\n",
      "Epoch loss: train 148.69850277900696 and test: 27.47256350517273\n",
      "lr 0.001\n",
      "\n",
      "[149.04545402526855, 149.23967671394348, 148.78549599647522, 148.69850277900696]\n",
      "Last (4,) loss std 0.213949901944 and mean 148.942282379\n",
      "\n",
      "Epoch 32/160\n",
      "Epoch train accuracy 0.151\n"
     ]
    },
    {
     "name": "stderr",
     "output_type": "stream",
     "text": [
      "\r",
      " 20%|██        | 32/160 [10:13<40:52, 19.16s/it]"
     ]
    },
    {
     "name": "stdout",
     "output_type": "stream",
     "text": [
      "Epoch test accuracy 0.0946\n",
      "Epoch loss: train 148.7878177165985 and test: 27.40722393989563\n",
      "lr 0.001\n",
      "\n",
      "[149.23967671394348, 148.78549599647522, 148.69850277900696, 148.7878177165985]\n",
      "Last (4,) loss std 0.211966429212 and mean 148.877873302\n",
      "PUNCH!\n",
      "\n",
      "Epoch 33/160\n",
      "Epoch train accuracy 0.15202\n"
     ]
    },
    {
     "name": "stderr",
     "output_type": "stream",
     "text": [
      "\r",
      " 21%|██        | 33/160 [10:32<40:33, 19.16s/it]"
     ]
    },
    {
     "name": "stdout",
     "output_type": "stream",
     "text": [
      "Epoch test accuracy 0.0939\n",
      "Epoch loss: train 148.71213221549988 and test: 27.373539209365845\n",
      "lr 0.0001\n",
      "\n",
      "[148.78549599647522, 148.69850277900696, 148.7878177165985, 148.71213221549988]\n",
      "Last (4,) loss std 0.040962383141 and mean 148.745987177\n",
      "\n",
      "Epoch 34/160\n",
      "Epoch train accuracy 0.15144\n"
     ]
    },
    {
     "name": "stderr",
     "output_type": "stream",
     "text": [
      "\r",
      " 21%|██▏       | 34/160 [10:51<40:12, 19.15s/it]"
     ]
    },
    {
     "name": "stdout",
     "output_type": "stream",
     "text": [
      "Epoch test accuracy 0.0986\n",
      "Epoch loss: train 148.93247389793396 and test: 27.397733449935913\n",
      "lr 0.001\n",
      "\n",
      "[148.69850277900696, 148.7878177165985, 148.71213221549988, 148.93247389793396]\n",
      "Last (4,) loss std 0.0929077388465 and mean 148.782731652\n",
      "\n",
      "Epoch 35/160\n",
      "Epoch train accuracy 0.14948\n"
     ]
    },
    {
     "name": "stderr",
     "output_type": "stream",
     "text": [
      "\r",
      " 22%|██▏       | 35/160 [11:10<39:53, 19.15s/it]"
     ]
    },
    {
     "name": "stdout",
     "output_type": "stream",
     "text": [
      "Epoch test accuracy 0.0962\n",
      "Epoch loss: train 148.75130581855774 and test: 27.41916584968567\n",
      "lr 0.001\n",
      "\n",
      "[148.7878177165985, 148.71213221549988, 148.93247389793396, 148.75130581855774]\n",
      "Last (4,) loss std 0.0832517739124 and mean 148.795932412\n",
      "\n",
      "Epoch 36/160\n",
      "Epoch train accuracy 0.1493\n"
     ]
    },
    {
     "name": "stderr",
     "output_type": "stream",
     "text": [
      "\r",
      " 22%|██▎       | 36/160 [11:28<39:33, 19.14s/it]"
     ]
    },
    {
     "name": "stdout",
     "output_type": "stream",
     "text": [
      "Epoch test accuracy 0.0951\n",
      "Epoch loss: train 148.76656699180603 and test: 27.408029079437256\n",
      "lr 0.001\n",
      "\n",
      "[148.71213221549988, 148.93247389793396, 148.75130581855774, 148.76656699180603]\n",
      "Last (4,) loss std 0.0842719003289 and mean 148.790619731\n",
      "\n",
      "Epoch 37/160\n"
     ]
    }
   ],
   "source": [
    "%%time\n",
    "n_epoch = 160\n",
    "batch_size = 1000\n",
    "for epoch in tqdm(range(n_epoch)):\n",
    "    if epoch < 5:\n",
    "        hp.update(epoch)\n",
    "    else:\n",
    "        hp.update(epoch,loss=train_epoch_loss_list[-4:])\n",
    "    train_epoch_loss = 0\n",
    "    test_epoch_loss = 0\n",
    "    running_corrects = 0\n",
    "    \n",
    "    print ('\\nEpoch %s/%s' %(epoch+1,n_epoch))\n",
    "    Xperm = np.random.permutation(X.shape[0])\n",
    "    net.train(True)\n",
    "    for b in range(X.shape[0]//batch_size):\n",
    "        batch_idxs = Xperm[b*batch_size:(b+1)*batch_size]\n",
    "        \n",
    "        x = Variable(torch.Tensor(X[batch_idxs].tolist())).cuda()\n",
    "        y = Variable(torch.LongTensor(Y[batch_idxs].tolist())).cuda()\n",
    "        \n",
    "        y_hat = net(x)\n",
    "        loss = criterion(y_hat, y)\n",
    "        \n",
    "        optimizer.zero_grad()\n",
    "        loss.backward()\n",
    "        optimizer.step()\n",
    "        \n",
    "        train_epoch_loss += loss.data[0]\n",
    "        _, preds = torch.max(y_hat.data, 1)\n",
    "        running_corrects += torch.sum(preds == y.data)\n",
    "    print (\"Epoch train accuracy %s\" %(running_corrects/Y.shape[0]))\n",
    "    running_corrects= 0\n",
    "    for param_group in optimizer.param_groups:\n",
    "        param_group['lr'] = hp.lr\n",
    "    \n",
    "    '''learn test'''\n",
    "    Xperm = np.random.permutation(Xt.shape[0])\n",
    "    net.train(False)\n",
    "    for b in range(Xt.shape[0]//batch_size):\n",
    "        batch_idxs = Xperm[b*batch_size:(b+1)*batch_size]\n",
    "        x = Variable(torch.Tensor(Xt[batch_idxs].tolist()),volatile = True).cuda()\n",
    "        y = Variable(torch.LongTensor(Yt[batch_idxs]),volatile = True).cuda()\n",
    "\n",
    "        y_hat = net(x)\n",
    "        loss = criterion(y_hat, y)\n",
    "        test_epoch_loss += loss.data[0]\n",
    "        running_corrects += torch.sum(preds == y.data)\n",
    "    print (\"Epoch test accuracy %s\" %(running_corrects/Yt.shape[0]))\n",
    "    \n",
    "    '''save loss for current epoch'''\n",
    "    train_epoch_loss_list.append(train_epoch_loss)\n",
    "    test_epoch_loss_list.append(test_epoch_loss)\n",
    "    print (\"Epoch loss: train %s and test: %s\\nlr %s\\n\" %(train_epoch_loss_list[-1], test_epoch_loss_list[-1], hp.lr))"
   ]
  },
  {
   "cell_type": "markdown",
   "metadata": {},
   "source": [
    "**Plot results**\n",
    "\n",
    "----"
   ]
  },
  {
   "cell_type": "code",
   "execution_count": 102,
   "metadata": {},
   "outputs": [
    {
     "ename": "ValueError",
     "evalue": "zero-size array to reduction operation minimum which has no identity",
     "output_type": "error",
     "traceback": [
      "\u001b[0;31m---------------------------------------------------------------------------\u001b[0m",
      "\u001b[0;31mValueError\u001b[0m                                Traceback (most recent call last)",
      "\u001b[0;32m<ipython-input-102-3d563375068b>\u001b[0m in \u001b[0;36m<module>\u001b[0;34m()\u001b[0m\n\u001b[0;32m----> 1\u001b[0;31m \u001b[0mprint\u001b[0m \u001b[0;34m(\u001b[0m\u001b[0;34m\"Min values and epoch\\ntrain: %s\\ntest: %s\"\u001b[0m        \u001b[0;34m%\u001b[0m\u001b[0;34m(\u001b[0m\u001b[0mnp\u001b[0m\u001b[0;34m.\u001b[0m\u001b[0marray\u001b[0m\u001b[0;34m(\u001b[0m\u001b[0mtrain_epoch_loss_list\u001b[0m\u001b[0;34m)\u001b[0m\u001b[0;34m.\u001b[0m\u001b[0mmin\u001b[0m\u001b[0;34m(\u001b[0m\u001b[0;34m)\u001b[0m\u001b[0;34m,\u001b[0m \u001b[0mnp\u001b[0m\u001b[0;34m.\u001b[0m\u001b[0marray\u001b[0m\u001b[0;34m(\u001b[0m\u001b[0mtest_epoch_loss_list\u001b[0m\u001b[0;34m)\u001b[0m\u001b[0;34m.\u001b[0m\u001b[0mmin\u001b[0m\u001b[0;34m(\u001b[0m\u001b[0;34m)\u001b[0m\u001b[0;34m)\u001b[0m \u001b[0;34m)\u001b[0m\u001b[0;34m\u001b[0m\u001b[0m\n\u001b[0m\u001b[1;32m      2\u001b[0m \u001b[0mtrain_loss\u001b[0m\u001b[0;34m,\u001b[0m \u001b[0;34m=\u001b[0m \u001b[0mplt\u001b[0m\u001b[0;34m.\u001b[0m\u001b[0mplot\u001b[0m\u001b[0;34m(\u001b[0m\u001b[0mtrain_epoch_loss_list\u001b[0m\u001b[0;34m,\u001b[0m \u001b[0;34m'g-'\u001b[0m\u001b[0;34m,\u001b[0m\u001b[0mlinewidth\u001b[0m \u001b[0;34m=\u001b[0m \u001b[0;36m1\u001b[0m\u001b[0;34m,\u001b[0m \u001b[0mlabel\u001b[0m\u001b[0;34m=\u001b[0m\u001b[0;34m'Train'\u001b[0m\u001b[0;34m)\u001b[0m\u001b[0;34m\u001b[0m\u001b[0m\n\u001b[1;32m      3\u001b[0m \u001b[0mtest_loss\u001b[0m\u001b[0;34m,\u001b[0m \u001b[0;34m=\u001b[0m \u001b[0mplt\u001b[0m\u001b[0;34m.\u001b[0m\u001b[0mplot\u001b[0m\u001b[0;34m(\u001b[0m\u001b[0mtest_epoch_loss_list\u001b[0m\u001b[0;34m,\u001b[0m \u001b[0;34m'b-'\u001b[0m\u001b[0;34m,\u001b[0m\u001b[0mlinewidth\u001b[0m \u001b[0;34m=\u001b[0m \u001b[0;36m1\u001b[0m\u001b[0;34m,\u001b[0m \u001b[0mlabel\u001b[0m \u001b[0;34m=\u001b[0m \u001b[0;34m\"Test\"\u001b[0m\u001b[0;34m)\u001b[0m\u001b[0;34m\u001b[0m\u001b[0m\n\u001b[1;32m      4\u001b[0m \u001b[0mplt\u001b[0m\u001b[0;34m.\u001b[0m\u001b[0mlegend\u001b[0m\u001b[0;34m(\u001b[0m\u001b[0mhandles\u001b[0m\u001b[0;34m=\u001b[0m\u001b[0;34m[\u001b[0m\u001b[0mtrain_loss\u001b[0m\u001b[0;34m,\u001b[0m \u001b[0mtest_loss\u001b[0m\u001b[0;34m]\u001b[0m\u001b[0;34m)\u001b[0m\u001b[0;34m\u001b[0m\u001b[0m\n\u001b[1;32m      5\u001b[0m \u001b[0mplt\u001b[0m\u001b[0;34m.\u001b[0m\u001b[0mgrid\u001b[0m\u001b[0;34m(\u001b[0m\u001b[0;34m)\u001b[0m\u001b[0;34m\u001b[0m\u001b[0m\n",
      "\u001b[0;32m~/anaconda3/lib/python3.6/site-packages/numpy/core/_methods.py\u001b[0m in \u001b[0;36m_amin\u001b[0;34m(a, axis, out, keepdims)\u001b[0m\n\u001b[1;32m     27\u001b[0m \u001b[0;34m\u001b[0m\u001b[0m\n\u001b[1;32m     28\u001b[0m \u001b[0;32mdef\u001b[0m \u001b[0m_amin\u001b[0m\u001b[0;34m(\u001b[0m\u001b[0ma\u001b[0m\u001b[0;34m,\u001b[0m \u001b[0maxis\u001b[0m\u001b[0;34m=\u001b[0m\u001b[0;32mNone\u001b[0m\u001b[0;34m,\u001b[0m \u001b[0mout\u001b[0m\u001b[0;34m=\u001b[0m\u001b[0;32mNone\u001b[0m\u001b[0;34m,\u001b[0m \u001b[0mkeepdims\u001b[0m\u001b[0;34m=\u001b[0m\u001b[0;32mFalse\u001b[0m\u001b[0;34m)\u001b[0m\u001b[0;34m:\u001b[0m\u001b[0;34m\u001b[0m\u001b[0m\n\u001b[0;32m---> 29\u001b[0;31m     \u001b[0;32mreturn\u001b[0m \u001b[0mumr_minimum\u001b[0m\u001b[0;34m(\u001b[0m\u001b[0ma\u001b[0m\u001b[0;34m,\u001b[0m \u001b[0maxis\u001b[0m\u001b[0;34m,\u001b[0m \u001b[0;32mNone\u001b[0m\u001b[0;34m,\u001b[0m \u001b[0mout\u001b[0m\u001b[0;34m,\u001b[0m \u001b[0mkeepdims\u001b[0m\u001b[0;34m)\u001b[0m\u001b[0;34m\u001b[0m\u001b[0m\n\u001b[0m\u001b[1;32m     30\u001b[0m \u001b[0;34m\u001b[0m\u001b[0m\n\u001b[1;32m     31\u001b[0m \u001b[0;32mdef\u001b[0m \u001b[0m_sum\u001b[0m\u001b[0;34m(\u001b[0m\u001b[0ma\u001b[0m\u001b[0;34m,\u001b[0m \u001b[0maxis\u001b[0m\u001b[0;34m=\u001b[0m\u001b[0;32mNone\u001b[0m\u001b[0;34m,\u001b[0m \u001b[0mdtype\u001b[0m\u001b[0;34m=\u001b[0m\u001b[0;32mNone\u001b[0m\u001b[0;34m,\u001b[0m \u001b[0mout\u001b[0m\u001b[0;34m=\u001b[0m\u001b[0;32mNone\u001b[0m\u001b[0;34m,\u001b[0m \u001b[0mkeepdims\u001b[0m\u001b[0;34m=\u001b[0m\u001b[0;32mFalse\u001b[0m\u001b[0;34m)\u001b[0m\u001b[0;34m:\u001b[0m\u001b[0;34m\u001b[0m\u001b[0m\n",
      "\u001b[0;31mValueError\u001b[0m: zero-size array to reduction operation minimum which has no identity"
     ]
    }
   ],
   "source": [
    "print (\"Min values and epoch\\ntrain: %s\\ntest: %s\" \\\n",
    "       %(np.array(train_epoch_loss_list).min(), np.array(test_epoch_loss_list).min()) )\n",
    "train_loss, = plt.plot(train_epoch_loss_list, 'g-',linewidth = 1, label='Train')\n",
    "test_loss, = plt.plot(test_epoch_loss_list, 'b-',linewidth = 1, label = \"Test\")\n",
    "plt.legend(handles=[train_loss, test_loss])\n",
    "plt.grid()\n",
    "plt.show()"
   ]
  },
  {
   "cell_type": "code",
   "execution_count": null,
   "metadata": {
    "collapsed": true
   },
   "outputs": [],
   "source": []
  }
 ],
 "metadata": {
  "kernelspec": {
   "display_name": "Python 3",
   "language": "python",
   "name": "python3"
  },
  "language_info": {
   "codemirror_mode": {
    "name": "ipython",
    "version": 3
   },
   "file_extension": ".py",
   "mimetype": "text/x-python",
   "name": "python",
   "nbconvert_exporter": "python",
   "pygments_lexer": "ipython3",
   "version": "3.6.2"
  }
 },
 "nbformat": 4,
 "nbformat_minor": 2
}
